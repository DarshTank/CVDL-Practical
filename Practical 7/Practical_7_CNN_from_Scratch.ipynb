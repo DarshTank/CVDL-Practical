{
  "nbformat": 4,
  "nbformat_minor": 0,
  "metadata": {
    "colab": {
      "provenance": [],
      "gpuType": "T4"
    },
    "kernelspec": {
      "name": "python3",
      "display_name": "Python 3"
    },
    "language_info": {
      "name": "python"
    },
    "accelerator": "GPU"
  },
  "cells": [
    {
      "cell_type": "code",
      "execution_count": 1,
      "metadata": {
        "id": "Aft_8Q92SX7c"
      },
      "outputs": [],
      "source": [
        "import torch\n",
        "import torch.nn as nn\n",
        "import torch.optim as optim\n",
        "import torch.nn.functional as F\n",
        "from torchvision import datasets, transforms\n",
        "from torch.utils.data import DataLoader\n",
        "import matplotlib.pyplot as plt\n",
        "import numpy as np\n"
      ]
    },
    {
      "cell_type": "code",
      "source": [
        "# Prepare the dataset\n",
        "transform = transforms.Compose([\n",
        "    transforms.ToTensor(),                 # Convert images to tensors\n",
        "    transforms.Normalize((0.1307,), (0.3081,))  # Normalize with mean & std of MNIST\n",
        "])\n",
        "\n",
        "train_dataset = datasets.MNIST(root='./data', train=True, download=True, transform=transform)\n",
        "test_dataset = datasets.MNIST(root='./data', train=False, download=True, transform=transform)\n",
        "\n",
        "train_loader = DataLoader(train_dataset, batch_size=64, shuffle=True)\n",
        "test_loader = DataLoader(test_dataset, batch_size=1000, shuffle=False)"
      ],
      "metadata": {
        "colab": {
          "base_uri": "https://localhost:8080/"
        },
        "id": "RFSHQBvbSpdg",
        "outputId": "7c5ed9a5-2917-4dcd-c692-26acbd78efca"
      },
      "execution_count": 3,
      "outputs": [
        {
          "output_type": "stream",
          "name": "stderr",
          "text": [
            "100%|██████████| 28.9k/28.9k [00:00<00:00, 512kB/s]\n",
            "100%|██████████| 1.65M/1.65M [00:00<00:00, 4.67MB/s]\n",
            "100%|██████████| 4.54k/4.54k [00:00<00:00, 7.31MB/s]\n"
          ]
        }
      ]
    },
    {
      "cell_type": "code",
      "source": [
        "# Display the image from each class\n",
        "\n",
        "class_images = {}\n",
        "\n",
        "for img, label in train_dataset:\n",
        "    if label not in class_images:\n",
        "        class_images[label] = img\n",
        "    if len(class_images) == 10:  # got all classes\n",
        "        break\n",
        "\n",
        "plt.figure(figsize=(12, 4))\n",
        "for i in range(10):\n",
        "    img = class_images[i].squeeze().numpy()  # remove channel dim\n",
        "    plt.subplot(2, 5, i+1)\n",
        "    plt.imshow(img, cmap=\"gray\")\n",
        "    plt.title(f\"Label: {i}\")\n",
        "    plt.axis(\"off\")\n",
        "\n",
        "plt.show()"
      ],
      "metadata": {
        "colab": {
          "base_uri": "https://localhost:8080/",
          "height": 343
        },
        "id": "iG_-E5LJUSDe",
        "outputId": "82e03c27-691e-4fe7-a50d-f01878427998"
      },
      "execution_count": 4,
      "outputs": [
        {
          "output_type": "display_data",
          "data": {
            "text/plain": [
              "<Figure size 1200x400 with 10 Axes>"
            ],
            "image/png": "[encoded data removed]"
          },
          "metadata": {}
        }
      ]
    },
    {
      "cell_type": "code",
      "source": [
        "# Define CNN model\n",
        "\n",
        "class CNN(nn.Module):\n",
        "    def __init__(self):\n",
        "        super(CNN, self).__init__()\n",
        "        self.conv1 = nn.Conv2d(1, 32, kernel_size=3, stride=1, padding=1)  # output: 32x28x28\n",
        "        self.conv2 = nn.Conv2d(32, 64, kernel_size=3, stride=1, padding=1) # output: 64x14x14\n",
        "        self.pool = nn.MaxPool2d(2, 2)  # downsample by 2\n",
        "        self.fc1 = nn.Linear(64*7*7, 128)   # flatten to fully connected\n",
        "        self.fc2 = nn.Linear(128, 10)       # 10 output classes (digits 0–9)\n",
        "\n",
        "    def forward(self, x):\n",
        "        x = self.conv1(x)\n",
        "        x = F.relu(x)\n",
        "        x = self.pool(x)\n",
        "        #x = self.pool(F.relu(self.conv1(x)))   # conv1 -> relu -> pool\n",
        "        x = self.conv2(x)\n",
        "        x = F.relu(x)\n",
        "        x = self.pool(x)\n",
        "        #x = self.pool(F.relu(self.conv2(x)))   # conv2 -> relu -> pool\n",
        "        x = x.view(-1, 64*7*7)                  # flatten\n",
        "        x = self.fc1(x)\n",
        "        x = F.relu(x)\n",
        "        #x = F.relu(self.fc1(x))                # fully connected\n",
        "        x = self.fc2(x)                        # output layer\n",
        "        return x"
      ],
      "metadata": {
        "id": "ShFJClr7S7Ai"
      },
      "execution_count": 5,
      "outputs": []
    },
    {
      "cell_type": "code",
      "source": [
        "# Training phase\n",
        "\n",
        "device = torch.device(\"cuda\" if torch.cuda.is_available() else \"cpu\")\n",
        "model = CNN().to(device)\n",
        "\n",
        "criterion = nn.CrossEntropyLoss()    # softmax + log loss\n",
        "optimizer = optim.Adam(model.parameters(), lr=0.001)\n",
        "\n",
        "\n",
        "def train(model, train_loader, optimizer, criterion, epoch):\n",
        "    model.train()\n",
        "    for batch_idx, (data, target) in enumerate(train_loader):\n",
        "        data, target = data.to(device), target.to(device)\n",
        "        optimizer.zero_grad()\n",
        "        output = model(data)\n",
        "        loss = criterion(output, target)\n",
        "        loss.backward()\n",
        "        optimizer.step()\n",
        "\n",
        "        if batch_idx % 100 == 0:\n",
        "            print(f\"Epoch {epoch} [{batch_idx*len(data)}/{len(train_loader.dataset)}]  Loss: {loss.item():.4f}\")"
      ],
      "metadata": {
        "id": "Nn5y-otgTdaq"
      },
      "execution_count": 6,
      "outputs": []
    },
    {
      "cell_type": "code",
      "source": [
        "# Test the model\n",
        "def test(model, test_loader, criterion):\n",
        "    model.eval()\n",
        "    test_loss = 0\n",
        "    correct = 0\n",
        "\n",
        "    with torch.no_grad():\n",
        "        for data, target in test_loader:\n",
        "            data, target = data.to(device), target.to(device)\n",
        "            output = model(data)\n",
        "            test_loss += criterion(output, target).item()\n",
        "            pred = output.argmax(dim=1, keepdim=True)\n",
        "            correct += pred.eq(target.view_as(pred)).sum().item()\n",
        "\n",
        "    test_loss /= len(test_loader.dataset)\n",
        "    accuracy = 100. * correct / len(test_loader.dataset)\n",
        "    print(f\"\\nTest set: Average loss: {test_loss:.4f}, Accuracy: {correct}/{len(test_loader.dataset)} ({accuracy:.2f}%)\\n\")"
      ],
      "metadata": {
        "id": "LMBTE2lMT05S"
      },
      "execution_count": 7,
      "outputs": []
    },
    {
      "cell_type": "code",
      "source": [
        "# Train and test the model\n",
        "for epoch in range(1, 3):  # 5 epochs\n",
        "    train(model, train_loader, optimizer, criterion, epoch)\n",
        "    test(model, test_loader, criterion)"
      ],
      "metadata": {
        "colab": {
          "base_uri": "https://localhost:8080/"
        },
        "id": "vdedHpyYT8Sp",
        "outputId": "f4392a0a-9599-40dc-be92-fc043064287f"
      },
      "execution_count": 8,
      "outputs": [
        {
          "output_type": "stream",
          "name": "stdout",
          "text": [
            "Epoch 1 [0/60000]  Loss: 2.2948\n",
            "Epoch 1 [6400/60000]  Loss: 0.1262\n",
            "Epoch 1 [12800/60000]  Loss: 0.1238\n",
            "Epoch 1 [19200/60000]  Loss: 0.0348\n",
            "Epoch 1 [25600/60000]  Loss: 0.0223\n",
            "Epoch 1 [32000/60000]  Loss: 0.0873\n",
            "Epoch 1 [38400/60000]  Loss: 0.0186\n",
            "Epoch 1 [44800/60000]  Loss: 0.0280\n",
            "Epoch 1 [51200/60000]  Loss: 0.1072\n",
            "Epoch 1 [57600/60000]  Loss: 0.0130\n",
            "\n",
            "Test set: Average loss: 0.0000, Accuracy: 9856/10000 (98.56%)\n",
            "\n",
            "Epoch 2 [0/60000]  Loss: 0.0945\n",
            "Epoch 2 [6400/60000]  Loss: 0.0523\n",
            "Epoch 2 [12800/60000]  Loss: 0.0553\n",
            "Epoch 2 [19200/60000]  Loss: 0.0077\n",
            "Epoch 2 [25600/60000]  Loss: 0.0412\n",
            "Epoch 2 [32000/60000]  Loss: 0.0076\n",
            "Epoch 2 [38400/60000]  Loss: 0.0292\n",
            "Epoch 2 [44800/60000]  Loss: 0.0034\n",
            "Epoch 2 [51200/60000]  Loss: 0.0862\n",
            "Epoch 2 [57600/60000]  Loss: 0.0104\n",
            "\n",
            "Test set: Average loss: 0.0000, Accuracy: 9860/10000 (98.60%)\n",
            "\n"
          ]
        }
      ]
    },
    {
      "cell_type": "code",
      "source": [
        "# Plot the feature mapes after the model training gets over\n",
        "\n",
        "example_data, example_target = next(iter(test_loader))\n",
        "example_data = example_data[7].unsqueeze(0).to(device)  # take first image\n",
        "print(f\"True label: {example_target[0].item()}\")\n",
        "\n",
        "activation = {}\n",
        "\n",
        "def get_activation(name):\n",
        "    def hook(model, input, output):\n",
        "        activation[name] = output.detach().cpu()\n",
        "    return hook\n",
        "\n",
        "model.conv1.register_forward_hook(get_activation('conv1'))\n",
        "model.conv2.register_forward_hook(get_activation('conv2'))\n",
        "\n",
        "\n",
        "_ = model(example_data)\n",
        "\n",
        "\n",
        "def plot_feature_maps(layer_name, num_maps=6):\n",
        "    fmap = activation[layer_name][0]  # shape: [C, H, W]\n",
        "    plt.figure(figsize=(12, 4))\n",
        "    for i in range(min(num_maps, fmap.shape[0])):  # show first few maps\n",
        "        plt.subplot(1, num_maps, i+1)\n",
        "        plt.imshow(fmap[i], cmap='gray')\n",
        "        plt.axis(\"off\")\n",
        "    plt.suptitle(f\"Feature maps from {layer_name}\")\n",
        "    plt.show()\n",
        "\n",
        "plot_feature_maps('conv1', num_maps=6)  # show 6 maps from conv1\n",
        "plot_feature_maps('conv2', num_maps=6)  # show 6 maps from conv2\n"
      ],
      "metadata": {
        "colab": {
          "base_uri": "https://localhost:8080/",
          "height": 590
        },
        "id": "ln3CgFBCWBRU",
        "outputId": "56080872-0395-449c-c966-bb05d0cf624a"
      },
      "execution_count": 11,
      "outputs": [
        {
          "output_type": "stream",
          "name": "stdout",
          "text": [
            "True label: 7\n"
          ]
        },
        {
          "output_type": "display_data",
          "data": {
            "text/plain": [
              "<Figure size 1200x400 with 6 Axes>"
            ],
            "image/png": "[encoded data removed]"
          },
          "metadata": {}
        },
        {
          "output_type": "display_data",
          "data": {
            "text/plain": [
              "<Figure size 1200x400 with 6 Axes>"
            ],
            "image/png": "[encoded data removed]"
          },
          "metadata": {}
        }
      ]
    }
  ]
}